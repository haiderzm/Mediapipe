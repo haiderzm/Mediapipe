{
 "cells": [
  {
   "cell_type": "code",
   "execution_count": 1,
   "metadata": {},
   "outputs": [],
   "source": [
    "import mediapipe as mp\n",
    "import numpy as np\n",
    "import cv2"
   ]
  },
  {
   "cell_type": "code",
   "execution_count": 2,
   "metadata": {},
   "outputs": [],
   "source": [
    "mp_drawing = mp.solutions.drawing_utils\n",
    "mp_pose = mp.solutions.pose"
   ]
  },
  {
   "cell_type": "code",
   "execution_count": 14,
   "metadata": {},
   "outputs": [],
   "source": [
    "cap = cv2.VideoCapture(0)\n",
    "\n",
    "with mp_pose.Pose(min_detection_confidence=0.5,min_tracking_confidence=0.5,) as pose:\n",
    "    while cap.isOpened():\n",
    "        _, frame = cap.read()\n",
    "        frame = cv2.flip(frame,1)\n",
    "        frame = cv2.cvtColor(frame, cv2.COLOR_BGR2RGB)\n",
    "        frame.flags.writeable = False\n",
    "        result = pose.process(frame)\n",
    "        \n",
    "        frame.flags.writeable = True\n",
    "        mp_drawing.draw_landmarks(frame, result.pose_landmarks, mp_pose.POSE_CONNECTIONS)\n",
    "        frame = cv2.cvtColor(frame, cv2.COLOR_RGB2BGR)\n",
    "        \n",
    "        \n",
    "        cv2.imshow(\"Frame\", frame)\n",
    "\n",
    "        if cv2.waitKey(10) & 0xFF == ord('q'):\n",
    "            break\n",
    "    cap.release()\n",
    "    cv2.destroyAllWindows()"
   ]
  },
  {
   "cell_type": "code",
   "execution_count": 15,
   "metadata": {},
   "outputs": [],
   "source": [
    "mp_drawing.draw_landmarks?"
   ]
  },
  {
   "cell_type": "code",
   "execution_count": 4,
   "metadata": {},
   "outputs": [
    {
     "data": {
      "text/plain": [
       "33"
      ]
     },
     "execution_count": 4,
     "metadata": {},
     "output_type": "execute_result"
    }
   ],
   "source": [
    "len(result.pose_landmarks.landmark)"
   ]
  },
  {
   "cell_type": "markdown",
   "metadata": {},
   "source": [
    "!['Landmark'](https://google.github.io/mediapipe/images/mobile/pose_tracking_full_body_landmarks.png)"
   ]
  },
  {
   "cell_type": "code",
   "execution_count": 16,
   "metadata": {},
   "outputs": [
    {
     "data": {
      "text/plain": [
       "x: 0.28896671533584595\n",
       "y: 1.808732509613037\n",
       "z: 0.08631338179111481\n",
       "visibility: 0.01732664555311203"
      ]
     },
     "execution_count": 16,
     "metadata": {},
     "output_type": "execute_result"
    }
   ],
   "source": [
    "result.pose_landmarks.landmark[mp_pose.PoseLandmark.LEFT_ANKLE.value]"
   ]
  },
  {
   "cell_type": "code",
   "execution_count": 17,
   "metadata": {},
   "outputs": [
    {
     "data": {
      "text/plain": [
       "27"
      ]
     },
     "execution_count": 17,
     "metadata": {},
     "output_type": "execute_result"
    }
   ],
   "source": [
    "mp_pose.PoseLandmark.LEFT_ANKLE.value"
   ]
  },
  {
   "cell_type": "code",
   "execution_count": 18,
   "metadata": {},
   "outputs": [
    {
     "data": {
      "text/plain": [
       "x: 0.04632759466767311\n",
       "y: 0.4792741537094116\n",
       "z: -0.275138795375824\n",
       "visibility: 0.9927991628646851"
      ]
     },
     "execution_count": 18,
     "metadata": {},
     "output_type": "execute_result"
    }
   ],
   "source": [
    "result.pose_landmarks.landmark[12]"
   ]
  },
  {
   "cell_type": "code",
   "execution_count": 19,
   "metadata": {},
   "outputs": [],
   "source": [
    "shoulder = [result.pose_landmarks.landmark[mp_pose.PoseLandmark.LEFT_SHOULDER].x,result.pose_landmarks.landmark[mp_pose.PoseLandmark.LEFT_SHOULDER].y]\n",
    "elbow = [result.pose_landmarks.landmark[mp_pose.PoseLandmark.LEFT_ELBOW].x,result.pose_landmarks.landmark[mp_pose.PoseLandmark.LEFT_ELBOW].y]\n",
    "wrist = [result.pose_landmarks.landmark[mp_pose.PoseLandmark.LEFT_WRIST].x,result.pose_landmarks.landmark[mp_pose.PoseLandmark.LEFT_WRIST].y] "
   ]
  },
  {
   "cell_type": "code",
   "execution_count": 20,
   "metadata": {},
   "outputs": [
    {
     "name": "stdout",
     "output_type": "stream",
     "text": [
      "[0.35667547583580017, 0.488629013299942] [0.5113536715507507, 0.6972600221633911] [0.7075040936470032, 0.9151315689086914]\n"
     ]
    }
   ],
   "source": [
    "print(shoulder, elbow, wrist)"
   ]
  },
  {
   "cell_type": "code",
   "execution_count": 21,
   "metadata": {},
   "outputs": [],
   "source": [
    "def calculate_angle(a,b,c):\n",
    "    a = np.array(a) \n",
    "    b = np.array(b) \n",
    "    c = np.array(c) \n",
    "    \n",
    "    radians = np.arctan2(c[1]-b[1], c[0]-b[0]) - np.arctan2(a[1]-b[1], a[0]-b[0])\n",
    "    angle = np.abs(radians*180.0/np.pi)\n",
    "    \n",
    "    if angle >180.0:\n",
    "        angle = 360-angle\n",
    "        \n",
    "    return angle"
   ]
  },
  {
   "cell_type": "code",
   "execution_count": 22,
   "metadata": {},
   "outputs": [
    {
     "data": {
      "text/plain": [
       "174.55628514473804"
      ]
     },
     "execution_count": 22,
     "metadata": {},
     "output_type": "execute_result"
    }
   ],
   "source": [
    "calculate_angle(shoulder, elbow, wrist)"
   ]
  },
  {
   "cell_type": "code",
   "execution_count": 47,
   "metadata": {},
   "outputs": [],
   "source": [
    "cap = cv2.VideoCapture(0)\n",
    "\n",
    "counter = 0\n",
    "stage = None\n",
    "with mp_pose.Pose(min_detection_confidence=0.5,min_tracking_confidence=0.5,) as pose:\n",
    "    while cap.isOpened():\n",
    "        _, frame = cap.read()\n",
    "        frame = cv2.flip(frame,1)\n",
    "        frame = cv2.cvtColor(frame, cv2.COLOR_BGR2RGB)\n",
    "        frame.flags.writeable = False\n",
    "        result = pose.process(frame)\n",
    "        \n",
    "        frame.flags.writeable = True\n",
    "        \n",
    "        try:\n",
    "            landmark = result.pose_landmarks.landmark\n",
    "            shoulder = [landmark[mp_pose.PoseLandmark.LEFT_SHOULDER].x, landmark[mp_pose.PoseLandmark.LEFT_SHOULDER].y]\n",
    "            elbow = [landmark[mp_pose.PoseLandmark.LEFT_ELBOW].x, landmark[mp_pose.PoseLandmark.LEFT_ELBOW].y]\n",
    "            wrist = [landmark[mp_pose.PoseLandmark.LEFT_WRIST].x, landmark[mp_pose.PoseLandmark.LEFT_WRIST].y]\n",
    "            \n",
    "            angle = calculate_angle(shoulder, elbow, wrist)\n",
    "#             print(angle)\n",
    "            cv2.putText(frame, str(angle), \n",
    "                           tuple(np.multiply(elbow, [640, 480]).astype(int)), \n",
    "                           cv2.FONT_HERSHEY_SIMPLEX, 0.5, (255, 255, 255), 2, cv2.LINE_AA\n",
    "                                )\n",
    "            \n",
    "            if angle > 150:\n",
    "                stage = 'Down'\n",
    "            elif angle < 45 and stage == 'Down':\n",
    "                counter += 1 \n",
    "                stage = 'Up'\n",
    "                \n",
    "#             print(stage)\n",
    "            \n",
    "        except:\n",
    "            pass\n",
    "        \n",
    "        mp_drawing.draw_landmarks(frame, result.pose_landmarks, mp_pose.POSE_CONNECTIONS)\n",
    "        frame = cv2.cvtColor(frame, cv2.COLOR_RGB2BGR)\n",
    "        \n",
    "        cv2.rectangle(frame, (0,0), (225,73), (245,117,16), -1)\n",
    "        cv2.putText(frame, \"Score \",(15,12),cv2.FONT_HERSHEY_SIMPLEX, 0.5, (250,250,250), 1, cv2.LINE_AA)\n",
    "        cv2.putText(frame,str(counter),(10,60), \n",
    "                    cv2.FONT_HERSHEY_SIMPLEX, 2, (255,255,255), 2, cv2.LINE_AA)\n",
    "        cv2.imshow(\"Frame\", frame)\n",
    "\n",
    "        if cv2.waitKey(10) & 0xFF == ord('q'):\n",
    "            break\n",
    "    cap.release()\n",
    "    cv2.destroyAllWindows()"
   ]
  },
  {
   "cell_type": "code",
   "execution_count": null,
   "metadata": {},
   "outputs": [],
   "source": []
  }
 ],
 "metadata": {
  "kernelspec": {
   "display_name": "Python 3",
   "language": "python",
   "name": "python3"
  },
  "language_info": {
   "codemirror_mode": {
    "name": "ipython",
    "version": 3
   },
   "file_extension": ".py",
   "mimetype": "text/x-python",
   "name": "python",
   "nbconvert_exporter": "python",
   "pygments_lexer": "ipython3",
   "version": "3.8.5"
  }
 },
 "nbformat": 4,
 "nbformat_minor": 4
}
